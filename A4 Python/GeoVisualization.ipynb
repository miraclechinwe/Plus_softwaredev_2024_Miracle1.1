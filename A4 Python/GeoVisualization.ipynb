{
 "cells": [
  {
   "cell_type": "markdown",
   "id": "0fcd79cc-f02b-4ce0-93da-231d385ffaa0",
   "metadata": {},
   "source": [
    "# Geo Visualization and Interactive Segmentation\n",
    "\n",
    "This notebook demonstrates how to use the functions defined in `geoviz.py` to read and visualize point cloud data from a LAS file.\n",
    "\n",
    "## Imports\n",
    "\n",
    "First, we need to import the necessary functions from our `geoviz` module."
   ]
  },
  {
   "cell_type": "code",
   "execution_count": 9,
   "id": "c9b42f43-bf52-47d8-b890-607a8e33fd0b",
   "metadata": {},
   "outputs": [],
   "source": [
    "import sys\n",
    "import os\n",
    "\n",
    "# Add the directory containing geovisdata.py to the system path\n",
    "sys.path.append(r\"C:\\Users\\HP\\A4 Python\")\n",
    "\n",
    "# Import functions from geovisdata module\n",
    "from geovisdata import read_las_file, visualize_point_cloud"
   ]
  },
  {
   "cell_type": "code",
   "execution_count": 10,
   "id": "56226136-4888-4cf4-930a-ee1329a2a76a",
   "metadata": {},
   "outputs": [],
   "source": [
    "## Reading the LAS File\n",
    "\n",
    "file_path = r\"C:\\Users\\HP\\DATA\\2020_Drone_M.las\""
   ]
  },
  {
   "cell_type": "code",
   "execution_count": 11,
   "id": "8b7a7441-712d-4ec0-b01f-88ca24bc645f",
   "metadata": {},
   "outputs": [],
   "source": [
    "# Read LAS file and retrieve point cloud data\n",
    "points = read_las_file(file_path)"
   ]
  },
  {
   "cell_type": "code",
   "execution_count": null,
   "id": "a2fc1cf5-6f21-4396-9cb6-df8769af1b5e",
   "metadata": {},
   "outputs": [],
   "source": [
    "## Visualizing the Point Cloud\n",
    "visualize_point_cloud(points)"
   ]
  },
  {
   "cell_type": "code",
   "execution_count": null,
   "id": "e4dfa04c-4232-44e5-beaf-4d95ef59e1de",
   "metadata": {},
   "outputs": [],
   "source": []
  }
 ],
 "metadata": {
  "kernelspec": {
   "display_name": "Python 3 (ipykernel)",
   "language": "python",
   "name": "python3"
  },
  "language_info": {
   "codemirror_mode": {
    "name": "ipython",
    "version": 3
   },
   "file_extension": ".py",
   "mimetype": "text/x-python",
   "name": "python",
   "nbconvert_exporter": "python",
   "pygments_lexer": "ipython3",
   "version": "3.11.9"
  }
 },
 "nbformat": 4,
 "nbformat_minor": 5
}
