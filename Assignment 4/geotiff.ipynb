{
 "cells": [
  {
   "cell_type": "code",
   "execution_count": 1,
   "id": "e1acb647-83dc-45cd-9bc7-73dacac70265",
   "metadata": {},
   "outputs": [
    {
     "data": {
      "text/plain": [
       "'C:\\\\Users\\\\HP\\\\Assignment 4'"
      ]
     },
     "execution_count": 1,
     "metadata": {},
     "output_type": "execute_result"
    }
   ],
   "source": [
    "pwd"
   ]
  },
  {
   "cell_type": "markdown",
   "id": "8dc371d4-6df9-44e7-b7ed-a2c56f52a077",
   "metadata": {},
   "source": [
    "import rasterio\n",
    "from rasterio.plot import show\n",
    "import matplotlib.pyplot as plt\n",
    "import numpy as np"
   ]
  },
  {
   "cell_type": "code",
   "execution_count": 2,
   "id": "b0555593-6168-4230-b0ec-7dae1c30233e",
   "metadata": {},
   "outputs": [
    {
     "name": "stderr",
     "output_type": "stream",
     "text": [
      "Matplotlib is building the font cache; this may take a moment.\n"
     ]
    }
   ],
   "source": [
    "import rasterio\n",
    "from rasterio.plot import show\n",
    "import matplotlib.pyplot as plt\n",
    "import numpy as np"
   ]
  },
  {
   "cell_type": "code",
   "execution_count": 4,
   "id": "fb102078-7a7c-4d1b-8c9f-ce3c906548a2",
   "metadata": {},
   "outputs": [],
   "source": [
    "# Define file paths for Red and NIR bands using raw string literal\n",
    "red_band_file = r'C:\\Users\\HP\\DATA\\landsat\\LC08_L1TP_091084_20210309_20210315_01_T1_B4.tif'\n",
    "nir_band_file = r'C:\\Users\\HP\\DATA\\landsat\\LC08_L1TP_091084_20210309_20210315_01_T1_B5.tif'"
   ]
  },
  {
   "cell_type": "code",
   "execution_count": 10,
   "id": "5b4330c8-97e0-43d5-b988-f5726b1ab036",
   "metadata": {},
   "outputs": [
    {
     "ename": "IndentationError",
     "evalue": "unexpected indent (2175741468.py, line 2)",
     "output_type": "error",
     "traceback": [
      "\u001b[1;36m  Cell \u001b[1;32mIn[10], line 2\u001b[1;36m\u001b[0m\n\u001b[1;33m    with rasterio.open(red_band_file) as red_band:\u001b[0m\n\u001b[1;37m    ^\u001b[0m\n\u001b[1;31mIndentationError\u001b[0m\u001b[1;31m:\u001b[0m unexpected indent\n"
     ]
    }
   ],
   "source": [
    "# Open Red band (Band 4)\n",
    "    with rasterio.open(red_band_file) as red_band:\n",
    "        red_img = red_band.read(1)  # Read band 1\n",
    "\n",
    "    # Open NIR band (Band 5)\n",
    "    with rasterio.open(nir_band_file) as nir_band:\n",
    "        nir_img = nir_band.read(1)  # Read band 1\n",
    "\n",
    "    # Display Red band (Band 4)\n",
    "    plt.figure(figsize=(8, 8))\n",
    "    plt.imshow(red_img, cmap='Reds')\n",
    "    plt.colorbar(label='Pixel Value')\n",
    "    plt.title('Landsat 8 Red Band (Band 4)')\n",
    "    plt.axis('off')\n",
    "    plt.show()\n",
    "\n",
    "    # Display NIR band (Band 5)\n",
    "    plt.figure(figsize=(8, 8))\n",
    "    plt.imshow(nir_img, cmap='Greens')\n",
    "    plt.colorbar(label='Pixel Value')\n",
    "    plt.title('Landsat 8 NIR Band (Band 5)')\n",
    "    plt.axis('off')\n",
    "    plt.show()\n",
    "\n",
    "except Exception as e:\n",
    "    print(f\"Error opening or reading file: {e}\")"
   ]
  },
  {
   "cell_type": "code",
   "execution_count": 11,
   "id": "0843bb41-02ae-4008-ba8f-947fa9dffa26",
   "metadata": {},
   "outputs": [
    {
     "ename": "IndentationError",
     "evalue": "unexpected indent (2097876834.py, line 3)",
     "output_type": "error",
     "traceback": [
      "\u001b[1;36m  Cell \u001b[1;32mIn[11], line 3\u001b[1;36m\u001b[0m\n\u001b[1;33m    with rasterio.open(red_band_file) as red_band:\u001b[0m\n\u001b[1;37m    ^\u001b[0m\n\u001b[1;31mIndentationError\u001b[0m\u001b[1;31m:\u001b[0m unexpected indent\n"
     ]
    }
   ],
   "source": [
    "print(f\"Opening Red band file: {red_band_file}\")\n",
    "    # Open Red band (Band 4)\n",
    "    with rasterio.open(red_band_file) as red_band:\n",
    "        red_img = red_band.read(1)  # Read band 1"
   ]
  },
  {
   "cell_type": "code",
   "execution_count": 12,
   "id": "a6b906da-3478-48c8-934b-7ad9d279b40b",
   "metadata": {},
   "outputs": [
    {
     "ename": "IndentationError",
     "evalue": "unexpected indent (2097876834.py, line 3)",
     "output_type": "error",
     "traceback": [
      "\u001b[1;36m  Cell \u001b[1;32mIn[12], line 3\u001b[1;36m\u001b[0m\n\u001b[1;33m    with rasterio.open(red_band_file) as red_band:\u001b[0m\n\u001b[1;37m    ^\u001b[0m\n\u001b[1;31mIndentationError\u001b[0m\u001b[1;31m:\u001b[0m unexpected indent\n"
     ]
    }
   ],
   "source": [
    "print(f\"Opening Red band file: {red_band_file}\")\n",
    "    # Open Red band (Band 4)\n",
    "    with rasterio.open(red_band_file) as red_band:\n",
    "        red_img = red_band.read(1)  # Read band 1"
   ]
  },
  {
   "cell_type": "code",
   "execution_count": 13,
   "id": "12f76dc6-404b-451a-a148-6796232d3edf",
   "metadata": {},
   "outputs": [
    {
     "ename": "IndentationError",
     "evalue": "unexpected indent (1882355528.py, line 3)",
     "output_type": "error",
     "traceback": [
      "\u001b[1;36m  Cell \u001b[1;32mIn[13], line 3\u001b[1;36m\u001b[0m\n\u001b[1;33m    with rasterio.open(r'C:\\Users\\HP\\DATA\\landsat\\LC08_L1TP_091084_20210309_20210315_01_T1_B4.tif') as red_band:\u001b[0m\n\u001b[1;37m    ^\u001b[0m\n\u001b[1;31mIndentationError\u001b[0m\u001b[1;31m:\u001b[0m unexpected indent\n"
     ]
    }
   ],
   "source": [
    "print(f\"Opening Red band file: {red_band_file}\")\n",
    "    # Open Red band (Band 4)\n",
    "    with rasterio.open(r'C:\\Users\\HP\\DATA\\landsat\\LC08_L1TP_091084_20210309_20210315_01_T1_B4.tif') as red_band:\n",
    "        red_img = red_band.read(1)  # Read band 1"
   ]
  },
  {
   "cell_type": "code",
   "execution_count": 14,
   "id": "7f8bef9a-684d-4c2e-9d65-05a29b7dc222",
   "metadata": {},
   "outputs": [],
   "source": [
    "import rasterio\n",
    "from rasterio.plot import show\n",
    "import matplotlib.pyplot as plt"
   ]
  },
  {
   "cell_type": "code",
   "execution_count": 15,
   "id": "1f183384-6b2b-43c8-a041-a68148bd475e",
   "metadata": {},
   "outputs": [],
   "source": [
    "# Define file path for Landsat 8 Band 4 (Red) image\n",
    "red_band_file = r'C:\\Users\\HP\\DATA\\landsat\\LC08_L1TP_091084_20210309_20210315_01_T1_B4.tif'"
   ]
  },
  {
   "cell_type": "code",
   "execution_count": 16,
   "id": "38abdf27-5271-4e7a-abca-4f862a690b07",
   "metadata": {},
   "outputs": [
    {
     "ename": "NameError",
     "evalue": "name 'open_red_band' is not defined",
     "output_type": "error",
     "traceback": [
      "\u001b[1;31m---------------------------------------------------------------------------\u001b[0m",
      "\u001b[1;31mNameError\u001b[0m                                 Traceback (most recent call last)",
      "Cell \u001b[1;32mIn[16], line 2\u001b[0m\n\u001b[0;32m      1\u001b[0m \u001b[38;5;66;03m# Open and visualize Red Band (Band 4)\u001b[39;00m\n\u001b[1;32m----> 2\u001b[0m red_img \u001b[38;5;241m=\u001b[39m \u001b[43mopen_red_band\u001b[49m(red_band_file)\n\u001b[0;32m      3\u001b[0m visualize_image(red_img, \u001b[38;5;124m'\u001b[39m\u001b[38;5;124mLandsat 8 Red Band (Band 4)\u001b[39m\u001b[38;5;124m'\u001b[39m)\n",
      "\u001b[1;31mNameError\u001b[0m: name 'open_red_band' is not defined"
     ]
    }
   ],
   "source": [
    "# Open and visualize Red Band (Band 4)\n",
    "red_img = open_red_band(red_band_file)\n",
    "visualize_image(red_img, 'Landsat 8 Red Band (Band 4)')\n"
   ]
  },
  {
   "cell_type": "code",
   "execution_count": 17,
   "id": "6380dc01-957d-4ac0-9396-0f5ecae215f0",
   "metadata": {},
   "outputs": [
    {
     "ename": "SyntaxError",
     "evalue": "invalid syntax (2493536267.py, line 2)",
     "output_type": "error",
     "traceback": [
      "\u001b[1;36m  Cell \u001b[1;32mIn[17], line 2\u001b[1;36m\u001b[0m\n\u001b[1;33m    def open_red_band(r'C:\\Users\\HP\\DATA\\landsat\\LC08_L1TP_091084_20210309_20210315_01_T1_B4.tif':\u001b[0m\n\u001b[1;37m                      ^\u001b[0m\n\u001b[1;31mSyntaxError\u001b[0m\u001b[1;31m:\u001b[0m invalid syntax\n"
     ]
    }
   ],
   "source": [
    "# Function to open Landsat 8 Band 4 (Red) image\n",
    "def open_red_band(r'C:\\Users\\HP\\DATA\\landsat\\LC08_L1TP_091084_20210309_20210315_01_T1_B4.tif':\n",
    "    \"\"\"\n",
    "    Opens the Landsat 8 Band 4 (Red) image.\n",
    "    \n",
    "    Parameters:\n",
    "    red_band_file (str): File path to the Band 4 image file.\n",
    "    \n",
    "    Returns:\n",
    "    numpy.ndarray: Image data as a numpy array.\n",
    "    \"\"\"\n",
    "    try:\n",
    "        with rasterio.open(red_band_file) as red_band:\n",
    "            red_img = red_band.read(1)  # Read band 1 (index 0 in Python)\n",
    "\n",
    "    except Exception as e:\n",
    "        print(f\"Error opening Band 4 image: {e}\")\n",
    "        red_img = None\n",
    "    \n",
    "    return red_img"
   ]
  },
  {
   "cell_type": "code",
   "execution_count": null,
   "id": "d26c4e72-e2a6-4698-9159-f7433040acb9",
   "metadata": {},
   "outputs": [],
   "source": []
  }
 ],
 "metadata": {
  "kernelspec": {
   "display_name": "Python 3 (ipykernel)",
   "language": "python",
   "name": "python3"
  },
  "language_info": {
   "codemirror_mode": {
    "name": "ipython",
    "version": 3
   },
   "file_extension": ".py",
   "mimetype": "text/x-python",
   "name": "python",
   "nbconvert_exporter": "python",
   "pygments_lexer": "ipython3",
   "version": "3.8.19"
  }
 },
 "nbformat": 4,
 "nbformat_minor": 5
}
